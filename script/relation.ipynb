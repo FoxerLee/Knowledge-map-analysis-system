{
 "cells": [
  {
   "cell_type": "code",
   "execution_count": 2,
   "metadata": {},
   "outputs": [],
   "source": [
    "import pandas as pd\n",
    "from pandas import DataFrame"
   ]
  },
  {
   "cell_type": "markdown",
   "metadata": {},
   "source": [
    "### 读取原始数据"
   ]
  },
  {
   "cell_type": "code",
   "execution_count": 3,
   "metadata": {},
   "outputs": [],
   "source": [
    "datas = pd.read_csv(\"../data/split.csv\")"
   ]
  },
  {
   "cell_type": "markdown",
   "metadata": {},
   "source": [
    "让我查看一下columns"
   ]
  },
  {
   "cell_type": "code",
   "execution_count": 4,
   "metadata": {},
   "outputs": [
    {
     "data": {
      "text/plain": [
       "['Unnamed: 0', '0', '1', '2', '3']"
      ]
     },
     "execution_count": 4,
     "metadata": {},
     "output_type": "execute_result"
    }
   ],
   "source": [
    "columns = datas.columns.values.tolist()\n",
    "columns"
   ]
  },
  {
   "cell_type": "markdown",
   "metadata": {},
   "source": [
    "输出每一行"
   ]
  },
  {
   "cell_type": "code",
   "execution_count": 5,
   "metadata": {
    "scrolled": true
   },
   "outputs": [
    {
     "ename": "KeyboardInterrupt",
     "evalue": "",
     "output_type": "error",
     "traceback": [
      "\u001b[0;31m---------------------------------------------------------------------------\u001b[0m",
      "\u001b[0;31mKeyboardInterrupt\u001b[0m                         Traceback (most recent call last)",
      "\u001b[0;32m<ipython-input-5-dc0e573cb2be>\u001b[0m in \u001b[0;36m<module>\u001b[0;34m()\u001b[0m\n\u001b[0;32m----> 1\u001b[0;31m \u001b[0;32mfor\u001b[0m \u001b[0mrow\u001b[0m \u001b[0;32min\u001b[0m \u001b[0mdatas\u001b[0m\u001b[0;34m.\u001b[0m\u001b[0miterrows\u001b[0m\u001b[0;34m(\u001b[0m\u001b[0;34m)\u001b[0m\u001b[0;34m:\u001b[0m\u001b[0;34m\u001b[0m\u001b[0m\n\u001b[0m\u001b[1;32m      2\u001b[0m     \u001b[0mprint\u001b[0m\u001b[0;34m(\u001b[0m\u001b[0mrow\u001b[0m\u001b[0;34m)\u001b[0m\u001b[0;34m\u001b[0m\u001b[0m\n",
      "\u001b[0;32m~/anaconda3/lib/python3.6/site-packages/pandas/core/frame.py\u001b[0m in \u001b[0;36miterrows\u001b[0;34m(self)\u001b[0m\n\u001b[1;32m    745\u001b[0m         \u001b[0mcolumns\u001b[0m \u001b[0;34m=\u001b[0m \u001b[0mself\u001b[0m\u001b[0;34m.\u001b[0m\u001b[0mcolumns\u001b[0m\u001b[0;34m\u001b[0m\u001b[0m\n\u001b[1;32m    746\u001b[0m         \u001b[0mklass\u001b[0m \u001b[0;34m=\u001b[0m \u001b[0mself\u001b[0m\u001b[0;34m.\u001b[0m\u001b[0m_constructor_sliced\u001b[0m\u001b[0;34m\u001b[0m\u001b[0m\n\u001b[0;32m--> 747\u001b[0;31m         \u001b[0;32mfor\u001b[0m \u001b[0mk\u001b[0m\u001b[0;34m,\u001b[0m \u001b[0mv\u001b[0m \u001b[0;32min\u001b[0m \u001b[0mzip\u001b[0m\u001b[0;34m(\u001b[0m\u001b[0mself\u001b[0m\u001b[0;34m.\u001b[0m\u001b[0mindex\u001b[0m\u001b[0;34m,\u001b[0m \u001b[0mself\u001b[0m\u001b[0;34m.\u001b[0m\u001b[0mvalues\u001b[0m\u001b[0;34m)\u001b[0m\u001b[0;34m:\u001b[0m\u001b[0;34m\u001b[0m\u001b[0m\n\u001b[0m\u001b[1;32m    748\u001b[0m             \u001b[0ms\u001b[0m \u001b[0;34m=\u001b[0m \u001b[0mklass\u001b[0m\u001b[0;34m(\u001b[0m\u001b[0mv\u001b[0m\u001b[0;34m,\u001b[0m \u001b[0mindex\u001b[0m\u001b[0;34m=\u001b[0m\u001b[0mcolumns\u001b[0m\u001b[0;34m,\u001b[0m \u001b[0mname\u001b[0m\u001b[0;34m=\u001b[0m\u001b[0mk\u001b[0m\u001b[0;34m)\u001b[0m\u001b[0;34m\u001b[0m\u001b[0m\n\u001b[1;32m    749\u001b[0m             \u001b[0;32myield\u001b[0m \u001b[0mk\u001b[0m\u001b[0;34m,\u001b[0m \u001b[0ms\u001b[0m\u001b[0;34m\u001b[0m\u001b[0m\n",
      "\u001b[0;32m~/anaconda3/lib/python3.6/site-packages/pandas/core/generic.py\u001b[0m in \u001b[0;36mvalues\u001b[0;34m(self)\u001b[0m\n\u001b[1;32m   3809\u001b[0m         \u001b[0mwill\u001b[0m \u001b[0mresult\u001b[0m \u001b[0;32min\u001b[0m \u001b[0ma\u001b[0m \u001b[0mflot64\u001b[0m \u001b[0mdtype\u001b[0m\u001b[0;34m.\u001b[0m\u001b[0;34m\u001b[0m\u001b[0m\n\u001b[1;32m   3810\u001b[0m         \"\"\"\n\u001b[0;32m-> 3811\u001b[0;31m         \u001b[0;32mreturn\u001b[0m \u001b[0mself\u001b[0m\u001b[0;34m.\u001b[0m\u001b[0mas_matrix\u001b[0m\u001b[0;34m(\u001b[0m\u001b[0;34m)\u001b[0m\u001b[0;34m\u001b[0m\u001b[0m\n\u001b[0m\u001b[1;32m   3812\u001b[0m \u001b[0;34m\u001b[0m\u001b[0m\n\u001b[1;32m   3813\u001b[0m     \u001b[0;34m@\u001b[0m\u001b[0mproperty\u001b[0m\u001b[0;34m\u001b[0m\u001b[0m\n",
      "\u001b[0;32m~/anaconda3/lib/python3.6/site-packages/pandas/core/generic.py\u001b[0m in \u001b[0;36mas_matrix\u001b[0;34m(self, columns)\u001b[0m\n\u001b[1;32m   3790\u001b[0m         \u001b[0mself\u001b[0m\u001b[0;34m.\u001b[0m\u001b[0m_consolidate_inplace\u001b[0m\u001b[0;34m(\u001b[0m\u001b[0;34m)\u001b[0m\u001b[0;34m\u001b[0m\u001b[0m\n\u001b[1;32m   3791\u001b[0m         \u001b[0;32mif\u001b[0m \u001b[0mself\u001b[0m\u001b[0;34m.\u001b[0m\u001b[0m_AXIS_REVERSED\u001b[0m\u001b[0;34m:\u001b[0m\u001b[0;34m\u001b[0m\u001b[0m\n\u001b[0;32m-> 3792\u001b[0;31m             \u001b[0;32mreturn\u001b[0m \u001b[0mself\u001b[0m\u001b[0;34m.\u001b[0m\u001b[0m_data\u001b[0m\u001b[0;34m.\u001b[0m\u001b[0mas_matrix\u001b[0m\u001b[0;34m(\u001b[0m\u001b[0mcolumns\u001b[0m\u001b[0;34m)\u001b[0m\u001b[0;34m.\u001b[0m\u001b[0mT\u001b[0m\u001b[0;34m\u001b[0m\u001b[0m\n\u001b[0m\u001b[1;32m   3793\u001b[0m         \u001b[0;32mreturn\u001b[0m \u001b[0mself\u001b[0m\u001b[0;34m.\u001b[0m\u001b[0m_data\u001b[0m\u001b[0;34m.\u001b[0m\u001b[0mas_matrix\u001b[0m\u001b[0;34m(\u001b[0m\u001b[0mcolumns\u001b[0m\u001b[0;34m)\u001b[0m\u001b[0;34m\u001b[0m\u001b[0m\n\u001b[1;32m   3794\u001b[0m \u001b[0;34m\u001b[0m\u001b[0m\n",
      "\u001b[0;32m~/anaconda3/lib/python3.6/site-packages/pandas/core/internals.py\u001b[0m in \u001b[0;36mas_matrix\u001b[0;34m(self, items)\u001b[0m\n\u001b[1;32m   3676\u001b[0m             \u001b[0;32mreturn\u001b[0m \u001b[0mmgr\u001b[0m\u001b[0;34m.\u001b[0m\u001b[0mblocks\u001b[0m\u001b[0;34m[\u001b[0m\u001b[0;36m0\u001b[0m\u001b[0;34m]\u001b[0m\u001b[0;34m.\u001b[0m\u001b[0mget_values\u001b[0m\u001b[0;34m(\u001b[0m\u001b[0;34m)\u001b[0m\u001b[0;34m\u001b[0m\u001b[0m\n\u001b[1;32m   3677\u001b[0m         \u001b[0;32melse\u001b[0m\u001b[0;34m:\u001b[0m\u001b[0;34m\u001b[0m\u001b[0m\n\u001b[0;32m-> 3678\u001b[0;31m             \u001b[0;32mreturn\u001b[0m \u001b[0mmgr\u001b[0m\u001b[0;34m.\u001b[0m\u001b[0m_interleave\u001b[0m\u001b[0;34m(\u001b[0m\u001b[0;34m)\u001b[0m\u001b[0;34m\u001b[0m\u001b[0m\n\u001b[0m\u001b[1;32m   3679\u001b[0m \u001b[0;34m\u001b[0m\u001b[0m\n\u001b[1;32m   3680\u001b[0m     \u001b[0;32mdef\u001b[0m \u001b[0m_interleave\u001b[0m\u001b[0;34m(\u001b[0m\u001b[0mself\u001b[0m\u001b[0;34m)\u001b[0m\u001b[0;34m:\u001b[0m\u001b[0;34m\u001b[0m\u001b[0m\n",
      "\u001b[0;32m~/anaconda3/lib/python3.6/site-packages/pandas/core/internals.py\u001b[0m in \u001b[0;36m_interleave\u001b[0;34m(self)\u001b[0m\n\u001b[1;32m   3703\u001b[0m         \u001b[0;32mfor\u001b[0m \u001b[0mblk\u001b[0m \u001b[0;32min\u001b[0m \u001b[0mself\u001b[0m\u001b[0;34m.\u001b[0m\u001b[0mblocks\u001b[0m\u001b[0;34m:\u001b[0m\u001b[0;34m\u001b[0m\u001b[0m\n\u001b[1;32m   3704\u001b[0m             \u001b[0mrl\u001b[0m \u001b[0;34m=\u001b[0m \u001b[0mblk\u001b[0m\u001b[0;34m.\u001b[0m\u001b[0mmgr_locs\u001b[0m\u001b[0;34m\u001b[0m\u001b[0m\n\u001b[0;32m-> 3705\u001b[0;31m             \u001b[0mresult\u001b[0m\u001b[0;34m[\u001b[0m\u001b[0mrl\u001b[0m\u001b[0;34m.\u001b[0m\u001b[0mindexer\u001b[0m\u001b[0;34m]\u001b[0m \u001b[0;34m=\u001b[0m \u001b[0mblk\u001b[0m\u001b[0;34m.\u001b[0m\u001b[0mget_values\u001b[0m\u001b[0;34m(\u001b[0m\u001b[0mdtype\u001b[0m\u001b[0;34m)\u001b[0m\u001b[0;34m\u001b[0m\u001b[0m\n\u001b[0m\u001b[1;32m   3706\u001b[0m             \u001b[0mitemmask\u001b[0m\u001b[0;34m[\u001b[0m\u001b[0mrl\u001b[0m\u001b[0;34m.\u001b[0m\u001b[0mindexer\u001b[0m\u001b[0;34m]\u001b[0m \u001b[0;34m=\u001b[0m \u001b[0;36m1\u001b[0m\u001b[0;34m\u001b[0m\u001b[0m\n\u001b[1;32m   3707\u001b[0m \u001b[0;34m\u001b[0m\u001b[0m\n",
      "\u001b[0;32m~/anaconda3/lib/python3.6/site-packages/pandas/core/internals.py\u001b[0m in \u001b[0;36mget_values\u001b[0;34m(self, dtype)\u001b[0m\n\u001b[1;32m    173\u001b[0m         \"\"\"\n\u001b[1;32m    174\u001b[0m         \u001b[0;32mif\u001b[0m \u001b[0mis_object_dtype\u001b[0m\u001b[0;34m(\u001b[0m\u001b[0mdtype\u001b[0m\u001b[0;34m)\u001b[0m\u001b[0;34m:\u001b[0m\u001b[0;34m\u001b[0m\u001b[0m\n\u001b[0;32m--> 175\u001b[0;31m             \u001b[0;32mreturn\u001b[0m \u001b[0mself\u001b[0m\u001b[0;34m.\u001b[0m\u001b[0mvalues\u001b[0m\u001b[0;34m.\u001b[0m\u001b[0mastype\u001b[0m\u001b[0;34m(\u001b[0m\u001b[0mobject\u001b[0m\u001b[0;34m)\u001b[0m\u001b[0;34m\u001b[0m\u001b[0m\n\u001b[0m\u001b[1;32m    176\u001b[0m         \u001b[0;32mreturn\u001b[0m \u001b[0mself\u001b[0m\u001b[0;34m.\u001b[0m\u001b[0mvalues\u001b[0m\u001b[0;34m\u001b[0m\u001b[0m\n\u001b[1;32m    177\u001b[0m \u001b[0;34m\u001b[0m\u001b[0m\n",
      "\u001b[0;31mKeyboardInterrupt\u001b[0m: "
     ]
    }
   ],
   "source": [
    "for row in datas.iterrows():\n",
    "    print(row)"
   ]
  },
  {
   "cell_type": "markdown",
   "metadata": {},
   "source": [
    "#### 统计 relation 相关的"
   ]
  },
  {
   "cell_type": "code",
   "execution_count": 6,
   "metadata": {},
   "outputs": [],
   "source": [
    "relations = datas.iloc[:,2].tolist()"
   ]
  },
  {
   "cell_type": "code",
   "execution_count": null,
   "metadata": {},
   "outputs": [],
   "source": [
    "for r in relations:\n",
    "    print(r)"
   ]
  },
  {
   "cell_type": "code",
   "execution_count": 7,
   "metadata": {},
   "outputs": [
    {
     "name": "stdout",
     "output_type": "stream",
     "text": [
      "662\n"
     ]
    }
   ],
   "source": [
    "diff_rel = set(relations)\n",
    "print(len(diff_rel))"
   ]
  },
  {
   "cell_type": "code",
   "execution_count": 11,
   "metadata": {},
   "outputs": [],
   "source": [
    "f = open(\"../data/relation.txt\", \"w\")\n",
    "for d in diff_rel:\n",
    "    f.write(d+\"\\n\")\n",
    "f.close()"
   ]
  },
  {
   "cell_type": "markdown",
   "metadata": {},
   "source": [
    "#### 统计 Entity 相关的"
   ]
  },
  {
   "cell_type": "code",
   "execution_count": 8,
   "metadata": {},
   "outputs": [
    {
     "name": "stdout",
     "output_type": "stream",
     "text": [
      "4235369\n"
     ]
    }
   ],
   "source": [
    "subjects = datas.iloc[:,1].tolist()\n",
    "diff_sub = set(subjects)\n",
    "print(len(diff_sub))"
   ]
  },
  {
   "cell_type": "code",
   "execution_count": 9,
   "metadata": {},
   "outputs": [
    {
     "name": "stdout",
     "output_type": "stream",
     "text": [
      "3384870\n"
     ]
    }
   ],
   "source": [
    "objects = datas.iloc[:,3].tolist()\n",
    "diff_ob = set(objects)\n",
    "print(len(diff_ob))"
   ]
  },
  {
   "cell_type": "markdown",
   "metadata": {},
   "source": [
    "主语、宾语不同的个数"
   ]
  },
  {
   "cell_type": "code",
   "execution_count": 10,
   "metadata": {},
   "outputs": [
    {
     "name": "stdout",
     "output_type": "stream",
     "text": [
      "2317717\n"
     ]
    }
   ],
   "source": [
    "ret = list(diff_sub.difference(diff_ob))\n",
    "# for r in ret:\n",
    "#     print(r)\n",
    "print(len(ret))"
   ]
  },
  {
   "cell_type": "code",
   "execution_count": 11,
   "metadata": {},
   "outputs": [],
   "source": [
    "diff_entity = diff_sub | diff_ob"
   ]
  },
  {
   "cell_type": "code",
   "execution_count": 12,
   "metadata": {},
   "outputs": [
    {
     "name": "stdout",
     "output_type": "stream",
     "text": [
      "5702587\n"
     ]
    }
   ],
   "source": [
    "print(len(diff_entity))"
   ]
  },
  {
   "cell_type": "code",
   "execution_count": 15,
   "metadata": {},
   "outputs": [],
   "source": [
    "test = datas.set_index(['1'], inplace=False, drop=False)"
   ]
  },
  {
   "cell_type": "code",
   "execution_count": 21,
   "metadata": {},
   "outputs": [
    {
     "name": "stdout",
     "output_type": "stream",
     "text": [
      "         Unnamed: 0                               0        1  \\\n",
      "1                                                              \n",
      "founder        8355                         Baghdad  founder   \n",
      "founder       11836                           Ceuta  founder   \n",
      "founder       11837                           Ceuta  founder   \n",
      "founder       12874                         Chicago  founder   \n",
      "founder       16898                       DC_Comics  founder   \n",
      "founder       20972             Fort_Wayne,_Indiana  founder   \n",
      "founder       28952                         Iqaluit  founder   \n",
      "founder       39615                     Mexico_City  founder   \n",
      "founder       39616                     Mexico_City  founder   \n",
      "founder       43042                       Marrakesh  founder   \n",
      "founder       43781                   Marvel_Comics  founder   \n",
      "founder       44083                           Mecca  founder   \n",
      "founder       44084                           Mecca  founder   \n",
      "founder       45400                        Nijmegen  founder   \n",
      "founder       45898     National_Lampoon_(magazine)  founder   \n",
      "founder       45899     National_Lampoon_(magazine)  founder   \n",
      "founder       45900     National_Lampoon_(magazine)  founder   \n",
      "founder       47679                Punch_(magazine)  founder   \n",
      "founder       47680                Punch_(magazine)  founder   \n",
      "founder       50751                      Pittsburgh  founder   \n",
      "founder       50752                      Pittsburgh  founder   \n",
      "founder       51377                   Rolling_Stone  founder   \n",
      "founder       51378                   Rolling_Stone  founder   \n",
      "founder       58531       Saint_John,_New_Brunswick  founder   \n",
      "founder       71460                         Biblica  founder   \n",
      "founder       71461                         Biblica  founder   \n",
      "founder       72685                       Hyderabad  founder   \n",
      "founder       74248                      Montevideo  founder   \n",
      "founder       75748                   New_Scientist  founder   \n",
      "founder       77400                       Monterrey  founder   \n",
      "...             ...                             ...      ...   \n",
      "founder    18215040                    Lenny_Letter  founder   \n",
      "founder    18215041                    Lenny_Letter  founder   \n",
      "founder    18219278                   Shabdasrishti  founder   \n",
      "founder    18247343                         Kavilok  founder   \n",
      "founder    18279053                Behar_(magazine)  founder   \n",
      "founder    18279054                Behar_(magazine)  founder   \n",
      "founder    18279055                Behar_(magazine)  founder   \n",
      "founder    18281564                Biser_(magazine)  founder   \n",
      "founder    18307481            Knowledge_(magazine)  founder   \n",
      "founder    18313723        Insurrection_Media,_Inc.  founder   \n",
      "founder    18320634                    DuJour_Media  founder   \n",
      "founder    18395352                  Knowledge_City  founder   \n",
      "founder    18403341                         Taganga  founder   \n",
      "founder    18446155                      Mount_Soma  founder   \n",
      "founder    18502248                         Az_Buki  founder   \n",
      "founder    18516289      Arena_Developmental_League  founder   \n",
      "founder    18516290      Arena_Developmental_League  founder   \n",
      "founder    18523744            Wiener_Schachzeitung  founder   \n",
      "founder    18540367                   Ambanad_Hills  founder   \n",
      "founder    18574095  Ekalokam_Trust_for_Photography  founder   \n",
      "founder    18607830   Women's_Arena_Football_League  founder   \n",
      "founder    18609711                     Haider_Khel  founder   \n",
      "founder    18639963              Double_Take_Comics  founder   \n",
      "founder    18642887             Manchete_(magazine)  founder   \n",
      "founder    18649753            Wizard's_Tower_Press  founder   \n",
      "founder    18650698              Rumiyah_(magazine)  founder   \n",
      "founder    18673822                 Soen_(magazine)  founder   \n",
      "founder    18690988                     Mullathpara  founder   \n",
      "founder    18699829                      Fujin_Gahō  founder   \n",
      "founder    18731564              Koreana_(magazine)  founder   \n",
      "\n",
      "                                                    2  3  \n",
      "1                                                         \n",
      "founder                                     Al-Mansur  .  \n",
      "founder                                 Berber_people  .  \n",
      "founder                                 Carthaginians  .  \n",
      "founder                  Jean_Baptiste_Point_du_Sable  .  \n",
      "founder                     Malcolm_Wheeler-Nicholson  .  \n",
      "founder                       Jean_François_Hamtramck  .  \n",
      "founder                                       Nakasuk  .  \n",
      "founder                                        Mexica  .  \n",
      "founder                                 Hernán_Cortés  .  \n",
      "founder                             Abu_Bakr_ibn_Umar  .  \n",
      "founder                    Martin_Goodman_(publisher)  .  \n",
      "founder                             Prophets_in_Islam  .  \n",
      "founder                              Abraham_in_Islam  .  \n",
      "founder                                        Trajan  .  \n",
      "founder                                Douglas_Kenney  .  \n",
      "founder                                   Henry_Beard  .  \n",
      "founder                  Robert_Hoffman_(businessman)  .  \n",
      "founder                                  Henry_Mayhew  .  \n",
      "founder                             Ebenezer_Landells  .  \n",
      "founder                             George_Washington  .  \n",
      "founder                           General_John_Forbes  .  \n",
      "founder                                   Jann_Wenner  .  \n",
      "founder                              Ralph_J._Gleason  .  \n",
      "founder                               Thomas_Carleton  .  \n",
      "founder                                 Henry_Rutgers  .  \n",
      "founder                               William_Colgate  .  \n",
      "founder                       Muhammad_Quli_Qutb_Shah  .  \n",
      "founder                      Bruno_Mauricio_de_Zabala  .  \n",
      "founder                                Tom_Margerison  .  \n",
      "founder                           Diego_de_Montemayor  .  \n",
      "...                                               ... ..  \n",
      "founder                                   Lena_Dunham  .  \n",
      "founder                               Jennifer_Konner  .  \n",
      "founder                       Gujarat_Sahitya_Akademi  .  \n",
      "founder                                 Rajendra_Shah  .  \n",
      "founder                                Edhem_Mulabdić  .  \n",
      "founder                            Safvet-beg_Bašagić  .  \n",
      "founder                             Osman_Nuri_Hadžić  .  \n",
      "founder                       Muhamed_Bekir_Kalajdžić  .  \n",
      "founder                            Richard_A._Proctor  .  \n",
      "founder          Kiliaen_Van_Rensselaer_(businessman)  .  \n",
      "founder                                    Jason_Binn  .  \n",
      "founder                                 Ullal_Thangal  .  \n",
      "founder                           Rodrigo_de_Bastidas  .  \n",
      "founder                                 Michael_Mamas  .  \n",
      "founder  Ministry_of_Education_and_Science_(Bulgaria)  .  \n",
      "founder                                     Skip_Seda  .  \n",
      "founder                                     Keke_Seda  .  \n",
      "founder                                Ernst_Falkbeer  .  \n",
      "founder                            East_India_Company  .  \n",
      "founder                Abul_Kalam_Azad_(photographer)  .  \n",
      "founder                                   Dwayne_Ware  .  \n",
      "founder                                  Faqir_of_Ipi  .  \n",
      "founder                                    Bill_Jemas  .  \n",
      "founder                                 Adolpho_Bloch  .  \n",
      "founder                                 Cheryl_Morgan  .  \n",
      "founder          Islamic_State_of_Iraq_and_the_Levant  .  \n",
      "founder                         Bunka_Fashion_College  .  \n",
      "founder                                  Maniparamban  .  \n",
      "founder                                Doppo_Kunikida  .  \n",
      "founder                              Korea_Foundation  .  \n",
      "\n",
      "[1574 rows x 5 columns]\n"
     ]
    }
   ],
   "source": [
    "print(test.loc['founder'])"
   ]
  }
 ],
 "metadata": {
  "kernelspec": {
   "display_name": "Python 3",
   "language": "python",
   "name": "python3"
  },
  "language_info": {
   "codemirror_mode": {
    "name": "ipython",
    "version": 3
   },
   "file_extension": ".py",
   "mimetype": "text/x-python",
   "name": "python",
   "nbconvert_exporter": "python",
   "pygments_lexer": "ipython3",
   "version": "3.6.4"
  }
 },
 "nbformat": 4,
 "nbformat_minor": 1
}
